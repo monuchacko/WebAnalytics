{
 "cells": [
  {
   "cell_type": "markdown",
   "metadata": {},
   "source": [
    "### Assignmnet 2 - Les miserables dataset\n",
    "### Group: Abdelmalek Hajjam, Monu Chacko\n",
    "\n",
    "Les miserables dataset is taken from: http://networkdata.ics.uci.edu/data/lesmis/lesmis.gml\n",
    "Les Misérables is a French historical novel by Victor Hugo, first published in 1862, that is considered one of the greatest novels of the 19th century.\n",
    "A link is made between two nodes (characters) if they co-appear in the novel. The node size reflects the number of connections each character has to other characters.\n",
    "The ex-convict, Jean Valjean, is the novel’s central character, hence makes for the largest node. As he spends a great deal of time in the novel running away from Inspector Javert, he is a cluster unto himself. He is also closely tied to his adopted daughter, Cosette, and her future husband, Marius.\n",
    "#### If one were interested in influencing Jean Valjean, once could target Cosette or Marius if Valjean cannot be directly targeted.\n",
    "\n",
    "Here is the link to the video: https://youtu.be/qKpMFhubQ5g\n"
   ]
  },
  {
   "cell_type": "code",
   "execution_count": 3,
   "metadata": {},
   "outputs": [
    {
     "ename": "ModuleNotFoundError",
     "evalue": "No module named 'nxviz'",
     "output_type": "error",
     "traceback": [
      "\u001b[1;31m---------------------------------------------------------------------------\u001b[0m",
      "\u001b[1;31mModuleNotFoundError\u001b[0m                       Traceback (most recent call last)",
      "\u001b[1;32m<ipython-input-3-86095949fb6b>\u001b[0m in \u001b[0;36m<module>\u001b[1;34m()\u001b[0m\n\u001b[0;32m      1\u001b[0m \u001b[1;32mimport\u001b[0m \u001b[0mnetworkx\u001b[0m \u001b[1;32mas\u001b[0m \u001b[0mnx\u001b[0m\u001b[1;33m\u001b[0m\u001b[0m\n\u001b[0;32m      2\u001b[0m \u001b[1;32mimport\u001b[0m \u001b[0mmatplotlib\u001b[0m\u001b[1;33m.\u001b[0m\u001b[0mpyplot\u001b[0m \u001b[1;32mas\u001b[0m \u001b[0mplt\u001b[0m\u001b[1;33m\u001b[0m\u001b[0m\n\u001b[1;32m----> 3\u001b[1;33m \u001b[1;32mimport\u001b[0m \u001b[0mnxviz\u001b[0m \u001b[1;32mas\u001b[0m \u001b[0mnv\u001b[0m\u001b[1;33m\u001b[0m\u001b[0m\n\u001b[0m\u001b[0;32m      4\u001b[0m \u001b[1;31m# import requests\u001b[0m\u001b[1;33m\u001b[0m\u001b[1;33m\u001b[0m\u001b[0m\n\u001b[0;32m      5\u001b[0m \u001b[1;31m# import io\u001b[0m\u001b[1;33m\u001b[0m\u001b[1;33m\u001b[0m\u001b[0m\n",
      "\u001b[1;31mModuleNotFoundError\u001b[0m: No module named 'nxviz'"
     ]
    }
   ],
   "source": [
    "import networkx as nx\n",
    "import matplotlib.pyplot as plt\n",
    "import nxviz as nv\n",
    "# import requests\n",
    "# import io\n",
    "from pyvis import network as net\n",
    "%matplotlib inline\n"
   ]
  },
  {
   "cell_type": "code",
   "execution_count": null,
   "metadata": {},
   "outputs": [],
   "source": [
    "#load the gml file\n",
    "file = 'lesmis.gml'\n",
    "G = nx.read_gml(file)\n",
    "\n",
    "# network dataset info\n",
    "print(nx.info(G))\n",
    "print('Graph Diameter:', nx.diameter(G))"
   ]
  },
  {
   "cell_type": "markdown",
   "metadata": {},
   "source": [
    "## How do we evaluate the importance of some individuals in a network?"
   ]
  },
  {
   "cell_type": "markdown",
   "metadata": {},
   "source": [
    "The number of other nodes that one node is connected to is a measure of its centrality. NetworkX implements a degree centrality, which is defined as the number of neighbors that a node has normalized to the number of individuals it could be connected to in the entire graph. This is accessed by using nx.degree_centrality(G).\n",
    "Degree Centrality shows how many edges/connections a node has."
   ]
  },
  {
   "cell_type": "code",
   "execution_count": null,
   "metadata": {},
   "outputs": [],
   "source": [
    "numNodes = len(G.nodes())\n",
    "print(\"# Nodes: \",numNodes)\n",
    "print(\"# Edges: \", len(G.edges()))\n",
    "\n",
    "#return the list of nodes and their degree of centrality <nx.degree_centrality(G)>\n",
    "list(nx.degree_centrality(G).items())"
   ]
  },
  {
   "cell_type": "markdown",
   "metadata": {},
   "source": [
    "we can see that there is a tuple that has the highest degree of centrality which is ('Valjean', 0.47368421052631576).\n",
    "so the character Valjean has the most influence in the network. We can verify that like so:"
   ]
  },
  {
   "cell_type": "code",
   "execution_count": null,
   "metadata": {},
   "outputs": [],
   "source": [
    "print(\"Max degree_centrality: \", max(list(nx.degree_centrality(G).values())))"
   ]
  },
  {
   "cell_type": "markdown",
   "metadata": {},
   "source": [
    "This makes sense since Valjean is the character than has the most connections. i.e. the only character that was almost present in every chapter of les miserables. We can verrify that by looking at the number of connections every node has. We'll see that the character Valjean has 36 connections, like so:"
   ]
  },
  {
   "cell_type": "code",
   "execution_count": null,
   "metadata": {},
   "outputs": [],
   "source": [
    "for n in G.nodes():\n",
    "    print (n + '----->' + str(len(list(G.neighbors(n)))))"
   ]
  },
  {
   "cell_type": "markdown",
   "metadata": {},
   "source": [
    "### do the calculation manually"
   ]
  },
  {
   "cell_type": "code",
   "execution_count": null,
   "metadata": {},
   "outputs": [],
   "source": [
    "number_of_neighbors_Valjean = len(list(G.neighbors('Valjean')))\n",
    "print(\"Total number of neighbors of Valjean: \", number_of_neighbors_Valjean)\n",
    "print(\"Total number of nodes in the Graph is: \", len(G.nodes()) )\n",
    "print(\"Degree Centrality of Valjeans is number_of_neighbors_Valjean/(len(G.nodes()) - 1)) = \", number_of_neighbors_Valjean/(len(G.nodes()) - 1))"
   ]
  },
  {
   "cell_type": "markdown",
   "metadata": {},
   "source": [
    "**the manual calculation and the API yield the same result, that is 0.47368421052631576.**"
   ]
  },
  {
   "cell_type": "markdown",
   "metadata": {},
   "source": [
    "## Let's do the graph"
   ]
  },
  {
   "cell_type": "code",
   "execution_count": null,
   "metadata": {
    "scrolled": false
   },
   "outputs": [],
   "source": [
    "#visualizing the network with pyvis:\n",
    "g=net.Network(height=\"800px\", width=\"100%\", notebook=True)\n",
    "nxg = nx.Graph(G)\n",
    "g.from_nx(nxg)\n",
    "g.show(\"basic.html\")\n",
    " \n",
    "# notice that Valjean character is the one with the most connections. Clicking on Valjean node will activate it and \n",
    "#will show all the connections edges in bold.\n",
    "\n",
    "# #visualizing the network with nxViz\n",
    "# c = nv.CircosPlot(G)\n",
    "# c.draw()\n",
    "# plt.show()"
   ]
  },
  {
   "cell_type": "markdown",
   "metadata": {},
   "source": [
    "Link to the video can be found in youtube at [this link](https://youtu.be/qKpMFhubQ5g)\n"
   ]
  }
 ],
 "metadata": {
  "kernelspec": {
   "display_name": "Python 3",
   "language": "python",
   "name": "python3"
  },
  "language_info": {
   "codemirror_mode": {
    "name": "ipython",
    "version": 3
   },
   "file_extension": ".py",
   "mimetype": "text/x-python",
   "name": "python",
   "nbconvert_exporter": "python",
   "pygments_lexer": "ipython3",
   "version": "3.7.0"
  }
 },
 "nbformat": 4,
 "nbformat_minor": 2
}
