{
 "cells": [
  {
   "cell_type": "code",
   "execution_count": 2,
   "metadata": {},
   "outputs": [],
   "source": [
    "import networkx as nx\n",
    "import matplotlib.pyplot as plt\n",
    "import nxviz as nv\n",
    "# import requests\n",
    "# import io\n",
    "from pyvis import network as net\n",
    "%matplotlib inline"
   ]
  },
  {
   "cell_type": "code",
   "execution_count": 3,
   "metadata": {},
   "outputs": [
    {
     "name": "stdout",
     "output_type": "stream",
     "text": [
      "Name: \n",
      "Type: Graph\n",
      "Number of nodes: 77\n",
      "Number of edges: 254\n",
      "Average degree:   6.5974\n",
      "Graph Diameter: 5\n"
     ]
    }
   ],
   "source": [
    "#load the gml file\n",
    "file = 'lesmis.gml'\n",
    "G = nx.read_gml(file)\n",
    "\n",
    "# network dataset info\n",
    "print(nx.info(G))\n",
    "print('Graph Diameter:', nx.diameter(G))"
   ]
  },
  {
   "cell_type": "code",
   "execution_count": 4,
   "metadata": {},
   "outputs": [
    {
     "name": "stdout",
     "output_type": "stream",
     "text": [
      "# Nodes:  77\n",
      "# Edges:  254\n"
     ]
    },
    {
     "data": {
      "text/plain": [
       "[('Myriel', 0.13157894736842105),\n",
       " ('Napoleon', 0.013157894736842105),\n",
       " ('MlleBaptistine', 0.039473684210526314),\n",
       " ('MmeMagloire', 0.039473684210526314),\n",
       " ('CountessDeLo', 0.013157894736842105),\n",
       " ('Geborand', 0.013157894736842105),\n",
       " ('Champtercier', 0.013157894736842105),\n",
       " ('Cravatte', 0.013157894736842105),\n",
       " ('Count', 0.013157894736842105),\n",
       " ('OldMan', 0.013157894736842105),\n",
       " ('Labarre', 0.013157894736842105),\n",
       " ('Valjean', 0.47368421052631576),\n",
       " ('Marguerite', 0.02631578947368421),\n",
       " ('MmeDeR', 0.013157894736842105),\n",
       " ('Isabeau', 0.013157894736842105),\n",
       " ('Gervais', 0.013157894736842105),\n",
       " ('Tholomyes', 0.11842105263157894),\n",
       " ('Listolier', 0.09210526315789473),\n",
       " ('Fameuil', 0.09210526315789473),\n",
       " ('Blacheville', 0.09210526315789473),\n",
       " ('Favourite', 0.09210526315789473),\n",
       " ('Dahlia', 0.09210526315789473),\n",
       " ('Zephine', 0.09210526315789473),\n",
       " ('Fantine', 0.19736842105263158),\n",
       " ('MmeThenardier', 0.14473684210526316),\n",
       " ('Thenardier', 0.21052631578947367),\n",
       " ('Cosette', 0.14473684210526316),\n",
       " ('Javert', 0.22368421052631576),\n",
       " ('Fauchelevent', 0.05263157894736842),\n",
       " ('Bamatabois', 0.10526315789473684),\n",
       " ('Perpetue', 0.02631578947368421),\n",
       " ('Simplice', 0.05263157894736842),\n",
       " ('Scaufflaire', 0.013157894736842105),\n",
       " ('Woman1', 0.02631578947368421),\n",
       " ('Judge', 0.07894736842105263),\n",
       " ('Champmathieu', 0.07894736842105263),\n",
       " ('Brevet', 0.07894736842105263),\n",
       " ('Chenildieu', 0.07894736842105263),\n",
       " ('Cochepaille', 0.07894736842105263),\n",
       " ('Pontmercy', 0.039473684210526314),\n",
       " ('Boulatruelle', 0.013157894736842105),\n",
       " ('Eponine', 0.14473684210526316),\n",
       " ('Anzelma', 0.039473684210526314),\n",
       " ('Woman2', 0.039473684210526314),\n",
       " ('MotherInnocent', 0.02631578947368421),\n",
       " ('Gribier', 0.013157894736842105),\n",
       " ('Jondrette', 0.013157894736842105),\n",
       " ('MmeBurgon', 0.02631578947368421),\n",
       " ('Gavroche', 0.2894736842105263),\n",
       " ('Gillenormand', 0.09210526315789473),\n",
       " ('Magnon', 0.02631578947368421),\n",
       " ('MlleGillenormand', 0.09210526315789473),\n",
       " ('MmePontmercy', 0.02631578947368421),\n",
       " ('MlleVaubois', 0.013157894736842105),\n",
       " ('LtGillenormand', 0.05263157894736842),\n",
       " ('Marius', 0.25),\n",
       " ('BaronessT', 0.02631578947368421),\n",
       " ('Mabeuf', 0.14473684210526316),\n",
       " ('Enjolras', 0.19736842105263158),\n",
       " ('Combeferre', 0.14473684210526316),\n",
       " ('Prouvaire', 0.11842105263157894),\n",
       " ('Feuilly', 0.14473684210526316),\n",
       " ('Courfeyrac', 0.17105263157894735),\n",
       " ('Bahorel', 0.15789473684210525),\n",
       " ('Bossuet', 0.17105263157894735),\n",
       " ('Joly', 0.15789473684210525),\n",
       " ('Grantaire', 0.13157894736842105),\n",
       " ('MotherPlutarch', 0.013157894736842105),\n",
       " ('Gueulemer', 0.13157894736842105),\n",
       " ('Babet', 0.13157894736842105),\n",
       " ('Claquesous', 0.13157894736842105),\n",
       " ('Montparnasse', 0.11842105263157894),\n",
       " ('Toussaint', 0.039473684210526314),\n",
       " ('Child1', 0.02631578947368421),\n",
       " ('Child2', 0.02631578947368421),\n",
       " ('Brujon', 0.09210526315789473),\n",
       " ('MmeHucheloup', 0.09210526315789473)]"
      ]
     },
     "execution_count": 4,
     "metadata": {},
     "output_type": "execute_result"
    }
   ],
   "source": [
    "numNodes = len(G.nodes())\n",
    "print(\"# Nodes: \",numNodes)\n",
    "print(\"# Edges: \", len(G.edges()))\n",
    "\n",
    "#return the list of nodes and their degree of centrality <nx.degree_centrality(G)>\n",
    "list(nx.degree_centrality(G).items())"
   ]
  },
  {
   "cell_type": "code",
   "execution_count": 5,
   "metadata": {},
   "outputs": [
    {
     "name": "stdout",
     "output_type": "stream",
     "text": [
      "Max degree_centrality:  0.47368421052631576\n"
     ]
    }
   ],
   "source": [
    "print(\"Max degree_centrality: \", max(list(nx.degree_centrality(G).values())))"
   ]
  },
  {
   "cell_type": "code",
   "execution_count": 6,
   "metadata": {},
   "outputs": [
    {
     "name": "stdout",
     "output_type": "stream",
     "text": [
      "Myriel----->10\n",
      "Napoleon----->1\n",
      "MlleBaptistine----->3\n",
      "MmeMagloire----->3\n",
      "CountessDeLo----->1\n",
      "Geborand----->1\n",
      "Champtercier----->1\n",
      "Cravatte----->1\n",
      "Count----->1\n",
      "OldMan----->1\n",
      "Labarre----->1\n",
      "Valjean----->36\n",
      "Marguerite----->2\n",
      "MmeDeR----->1\n",
      "Isabeau----->1\n",
      "Gervais----->1\n",
      "Tholomyes----->9\n",
      "Listolier----->7\n",
      "Fameuil----->7\n",
      "Blacheville----->7\n",
      "Favourite----->7\n",
      "Dahlia----->7\n",
      "Zephine----->7\n",
      "Fantine----->15\n",
      "MmeThenardier----->11\n",
      "Thenardier----->16\n",
      "Cosette----->11\n",
      "Javert----->17\n",
      "Fauchelevent----->4\n",
      "Bamatabois----->8\n",
      "Perpetue----->2\n",
      "Simplice----->4\n",
      "Scaufflaire----->1\n",
      "Woman1----->2\n",
      "Judge----->6\n",
      "Champmathieu----->6\n",
      "Brevet----->6\n",
      "Chenildieu----->6\n",
      "Cochepaille----->6\n",
      "Pontmercy----->3\n",
      "Boulatruelle----->1\n",
      "Eponine----->11\n",
      "Anzelma----->3\n",
      "Woman2----->3\n",
      "MotherInnocent----->2\n",
      "Gribier----->1\n",
      "Jondrette----->1\n",
      "MmeBurgon----->2\n",
      "Gavroche----->22\n",
      "Gillenormand----->7\n",
      "Magnon----->2\n",
      "MlleGillenormand----->7\n",
      "MmePontmercy----->2\n",
      "MlleVaubois----->1\n",
      "LtGillenormand----->4\n",
      "Marius----->19\n",
      "BaronessT----->2\n",
      "Mabeuf----->11\n",
      "Enjolras----->15\n",
      "Combeferre----->11\n",
      "Prouvaire----->9\n",
      "Feuilly----->11\n",
      "Courfeyrac----->13\n",
      "Bahorel----->12\n",
      "Bossuet----->13\n",
      "Joly----->12\n",
      "Grantaire----->10\n",
      "MotherPlutarch----->1\n",
      "Gueulemer----->10\n",
      "Babet----->10\n",
      "Claquesous----->10\n",
      "Montparnasse----->9\n",
      "Toussaint----->3\n",
      "Child1----->2\n",
      "Child2----->2\n",
      "Brujon----->7\n",
      "MmeHucheloup----->7\n"
     ]
    }
   ],
   "source": [
    "for n in G.nodes():\n",
    "    print (n + '----->' + str(len(list(G.neighbors(n)))))"
   ]
  },
  {
   "cell_type": "code",
   "execution_count": 7,
   "metadata": {},
   "outputs": [
    {
     "name": "stdout",
     "output_type": "stream",
     "text": [
      "Total number of neighbors of Valjean:  36\n",
      "Total number of nodes in the Graph is:  77\n",
      "Degree Centrality of Valjeans is number_of_neighbors_Valjean/(len(G.nodes()) - 1)) =  0.47368421052631576\n"
     ]
    }
   ],
   "source": [
    "number_of_neighbors_Valjean = len(list(G.neighbors('Valjean')))\n",
    "print(\"Total number of neighbors of Valjean: \", number_of_neighbors_Valjean)\n",
    "print(\"Total number of nodes in the Graph is: \", len(G.nodes()) )\n",
    "print(\"Degree Centrality of Valjeans is number_of_neighbors_Valjean/(len(G.nodes()) - 1)) = \", number_of_neighbors_Valjean/(len(G.nodes()) - 1))"
   ]
  },
  {
   "cell_type": "code",
   "execution_count": 8,
   "metadata": {},
   "outputs": [
    {
     "data": {
      "text/html": [
       "\n",
       "        <iframe\n",
       "            width=\"100%\"\n",
       "            height=\"800px\"\n",
       "            src=\"basic.html\"\n",
       "            frameborder=\"0\"\n",
       "            allowfullscreen\n",
       "        ></iframe>\n",
       "        "
      ],
      "text/plain": [
       "<IPython.lib.display.IFrame at 0x12bab81f358>"
      ]
     },
     "execution_count": 8,
     "metadata": {},
     "output_type": "execute_result"
    }
   ],
   "source": [
    "#visualizing the network with pyvis:\n",
    "g=net.Network(height=\"800px\", width=\"100%\", notebook=True)\n",
    "nxg = nx.Graph(G)\n",
    "g.from_nx(nxg)\n",
    "g.show(\"basic.html\")\n",
    " \n",
    "# notice that Valjean character is the one with the most connections. Clicking on Valjean node will activate it and \n",
    "#will show all the connections edges in bold.\n",
    "\n",
    "# #visualizing the network with nxViz\n",
    "# c = nv.CircosPlot(G)\n",
    "# c.draw()\n",
    "# plt.show()"
   ]
  },
  {
   "cell_type": "code",
   "execution_count": 13,
   "metadata": {},
   "outputs": [
    {
     "name": "stdout",
     "output_type": "stream",
     "text": [
      "['0 0.37', '1 0.60', '2 0.60', '3 0.37']\n"
     ]
    }
   ],
   "source": [
    "G = nx.path_graph(4)\n",
    "G\n",
    "centrality = nx.eigenvector_centrality(G)\n",
    "centrality\n",
    "print(['%s %0.2f'%(node,centrality[node]) for node in centrality])"
   ]
  }
 ],
 "metadata": {
  "kernelspec": {
   "display_name": "Python 3",
   "language": "python",
   "name": "python3"
  },
  "language_info": {
   "codemirror_mode": {
    "name": "ipython",
    "version": 3
   },
   "file_extension": ".py",
   "mimetype": "text/x-python",
   "name": "python",
   "nbconvert_exporter": "python",
   "pygments_lexer": "ipython3",
   "version": "3.7.0"
  }
 },
 "nbformat": 4,
 "nbformat_minor": 2
}
