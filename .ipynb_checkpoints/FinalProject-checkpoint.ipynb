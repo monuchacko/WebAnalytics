{
 "cells": [
  {
   "cell_type": "markdown",
   "metadata": {},
   "source": [
    "### FINAL PROJECT\n",
    "### Group: Abdelmalek Hajjam, Monu Chacko\n",
    "\n"
   ]
  },
  {
   "cell_type": "code",
   "execution_count": 1,
   "metadata": {},
   "outputs": [],
   "source": [
    "import pandas as pd\n",
    "import pymysql\n",
    "import matplotlib.pyplot as plt\n",
    "import networkx as nx\n",
    "import operator\n",
    "import numpy as np\n",
    "from nltk.sentiment.vader import SentimentIntensityAnalyzer"
   ]
  },
  {
   "cell_type": "code",
   "execution_count": 2,
   "metadata": {},
   "outputs": [],
   "source": [
    "reddit = pd.read_csv('comments_grp_data.csv',sep=',')\n",
    "reddit_comment = pd.read_csv('comments_data.csv',sep=';')\n",
    "users = pd.read_csv('users_data.csv',sep=';')"
   ]
  },
  {
   "cell_type": "code",
   "execution_count": 3,
   "metadata": {},
   "outputs": [
    {
     "data": {
      "text/html": [
       "<div>\n",
       "<style scoped>\n",
       "    .dataframe tbody tr th:only-of-type {\n",
       "        vertical-align: middle;\n",
       "    }\n",
       "\n",
       "    .dataframe tbody tr th {\n",
       "        vertical-align: top;\n",
       "    }\n",
       "\n",
       "    .dataframe thead th {\n",
       "        text-align: right;\n",
       "    }\n",
       "</style>\n",
       "<table border=\"1\" class=\"dataframe\">\n",
       "  <thead>\n",
       "    <tr style=\"text-align: right;\">\n",
       "      <th></th>\n",
       "      <th>author</th>\n",
       "      <th>responder</th>\n",
       "      <th>weight</th>\n",
       "    </tr>\n",
       "  </thead>\n",
       "  <tbody>\n",
       "    <tr>\n",
       "      <th>0</th>\n",
       "      <td>---DevilsAdvocate---</td>\n",
       "      <td>dannybtw</td>\n",
       "      <td>1</td>\n",
       "    </tr>\n",
       "    <tr>\n",
       "      <th>1</th>\n",
       "      <td>---DevilsAdvocate---</td>\n",
       "      <td>ThisFreaknGuy</td>\n",
       "      <td>2</td>\n",
       "    </tr>\n",
       "    <tr>\n",
       "      <th>2</th>\n",
       "      <td>-Covariance</td>\n",
       "      <td>DomeSlave</td>\n",
       "      <td>1</td>\n",
       "    </tr>\n",
       "    <tr>\n",
       "      <th>3</th>\n",
       "      <td>-Mountain-King-</td>\n",
       "      <td>ASK_ABOUT_STEELBEAMS</td>\n",
       "      <td>3</td>\n",
       "    </tr>\n",
       "    <tr>\n",
       "      <th>4</th>\n",
       "      <td>-Mountain-King-</td>\n",
       "      <td>AvoidNoiderman</td>\n",
       "      <td>2</td>\n",
       "    </tr>\n",
       "    <tr>\n",
       "      <th>5</th>\n",
       "      <td>-Mountain-King-</td>\n",
       "      <td>Bigfrostynugs</td>\n",
       "      <td>1</td>\n",
       "    </tr>\n",
       "  </tbody>\n",
       "</table>\n",
       "</div>"
      ],
      "text/plain": [
       "                 author             responder  weight\n",
       "0  ---DevilsAdvocate---              dannybtw       1\n",
       "1  ---DevilsAdvocate---         ThisFreaknGuy       2\n",
       "2           -Covariance             DomeSlave       1\n",
       "3       -Mountain-King-  ASK_ABOUT_STEELBEAMS       3\n",
       "4       -Mountain-King-        AvoidNoiderman       2\n",
       "5       -Mountain-King-         Bigfrostynugs       1"
      ]
     },
     "execution_count": 3,
     "metadata": {},
     "output_type": "execute_result"
    }
   ],
   "source": [
    "reddit.loc[0:5]"
   ]
  },
  {
   "cell_type": "code",
   "execution_count": 13,
   "metadata": {},
   "outputs": [
    {
     "data": {
      "text/plain": [
       "(24134, 13)"
      ]
     },
     "execution_count": 13,
     "metadata": {},
     "output_type": "execute_result"
    }
   ],
   "source": [
    "reddit_comment.shape"
   ]
  },
  {
   "cell_type": "code",
   "execution_count": 4,
   "metadata": {},
   "outputs": [],
   "source": [
    "# Initialize graph\n",
    "G = nx.Graph()\n",
    "\n",
    "# Add nodes\n",
    "nodes = set(reddit.loc[:, \"author\"])\n",
    "nodes.union(set(reddit.loc[:, \"responder\"]))\n",
    "nodes = list(nodes)\n",
    "nodes\n",
    "G.add_nodes_from(nodes)\n",
    "\n",
    "# Add edges with weights\n",
    "# Weight is equal to number of interactions between users\n",
    "#G.add_edges_from([tuple(x) for x in reddit.loc[:, \"author\":\"responder\"].values])\n",
    "G.add_weighted_edges_from([tuple(x) for x in reddit.values])"
   ]
  },
  {
   "cell_type": "code",
   "execution_count": 5,
   "metadata": {},
   "outputs": [
    {
     "data": {
      "text/plain": [
       "1146"
      ]
     },
     "execution_count": 5,
     "metadata": {},
     "output_type": "execute_result"
    }
   ],
   "source": [
    "nx.number_of_nodes(G)"
   ]
  },
  {
   "cell_type": "code",
   "execution_count": 6,
   "metadata": {},
   "outputs": [
    {
     "data": {
      "text/plain": [
       "163"
      ]
     },
     "execution_count": 6,
     "metadata": {},
     "output_type": "execute_result"
    }
   ],
   "source": [
    "nx.number_connected_components(G)"
   ]
  },
  {
   "cell_type": "code",
   "execution_count": 7,
   "metadata": {},
   "outputs": [
    {
     "data": {
      "text/plain": [
       "[591, 28, 17, 14, 10, 10, 10, 9, 8, 8]"
      ]
     },
     "execution_count": 7,
     "metadata": {},
     "output_type": "execute_result"
    }
   ],
   "source": [
    "# Ten largest subgraphs\n",
    "[len(c) for c in sorted(nx.connected_components(G), key=len, reverse=True)[0:10]]"
   ]
  },
  {
   "cell_type": "code",
   "execution_count": 8,
   "metadata": {},
   "outputs": [
    {
     "data": {
      "text/plain": [
       "591"
      ]
     },
     "execution_count": 8,
     "metadata": {},
     "output_type": "execute_result"
    }
   ],
   "source": [
    "# Select the largest connected subgraph\n",
    "G = max(nx.connected_component_subgraphs(G), key=len)\n",
    "G.number_of_nodes()"
   ]
  },
  {
   "cell_type": "code",
   "execution_count": 9,
   "metadata": {},
   "outputs": [
    {
     "data": {
      "text/plain": [
       "23"
      ]
     },
     "execution_count": 9,
     "metadata": {},
     "output_type": "execute_result"
    }
   ],
   "source": [
    "nx.diameter(G)"
   ]
  },
  {
   "cell_type": "code",
   "execution_count": 10,
   "metadata": {},
   "outputs": [
    {
     "data": {
      "text/plain": [
       "11.47207548252029"
      ]
     },
     "execution_count": 10,
     "metadata": {},
     "output_type": "execute_result"
    }
   ],
   "source": [
    "nx.average_shortest_path_length(G, weight='weight')"
   ]
  },
  {
   "cell_type": "code",
   "execution_count": 11,
   "metadata": {},
   "outputs": [],
   "source": [
    "# Top 10 edges by weight\n",
    "#for s, t, w in sorted(G.edges(data=True), key=lambda (source,target,data): data['weight'], reverse=True)[0:10]:\n",
    "#    print(s, t, w)"
   ]
  },
  {
   "cell_type": "code",
   "execution_count": null,
   "metadata": {},
   "outputs": [],
   "source": [
    "'''\n",
    "The following code was used to calculate centralities during first run\n",
    "Betweenness centrality takes a long time to calculate \n",
    "As such we use saved values for further analysis\n",
    "'''\n",
    "# Calculate betweenness centrality\n",
    "centr_bw = nx.betweenness_centrality(G, weight='weight')\n",
    "\n",
    "# Calculate degree centrality\n",
    "centr_deg = nx.degree_centrality(G)\n",
    "\n",
    "# Combine betweenness and degree centralities into a single data frame\n",
    "df1 = pd.DataFrame(list(centr_bw.items()), columns=['User', 'Betweenness'])\n",
    "df2 = pd.DataFrame(list(centr_deg.items()), columns=['User', 'Degree'])\n",
    "users = df1.join(df2.set_index('User'), on='User')\n",
    "users.sort_values(['Betweenness', 'Degree'], ascending = False, inplace=True)\n",
    "\n",
    "\n",
    "users[0:25]"
   ]
  }
 ],
 "metadata": {
  "kernelspec": {
   "display_name": "Python 3",
   "language": "python",
   "name": "python3"
  },
  "language_info": {
   "codemirror_mode": {
    "name": "ipython",
    "version": 3
   },
   "file_extension": ".py",
   "mimetype": "text/x-python",
   "name": "python",
   "nbconvert_exporter": "python",
   "pygments_lexer": "ipython3",
   "version": "3.7.0"
  }
 },
 "nbformat": 4,
 "nbformat_minor": 2
}
