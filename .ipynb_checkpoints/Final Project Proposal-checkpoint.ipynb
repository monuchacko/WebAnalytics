{
 "cells": [
  {
   "cell_type": "markdown",
   "metadata": {},
   "source": [
    "### Final Project Proposal\n",
    "### Group: Abdelmalek Hajjam, Monu Chacko\n",
    "\n",
    "Les miserables dataset is taken from: http://networkdata.ics.uci.edu/data/lesmis/lesmis.gml\n",
    "Les Misérables is a French historical novel by Victor Hugo, first published in 1862, that is considered one of the greatest novels of the 19th century.\n",
    "A link is made between two nodes (characters) if they co-appear in the novel. The node size reflects the number of connections each character has to other characters.\n",
    "The ex-convict, Jean Valjean, is the novel’s central character, hence makes for the largest node. As he spends a great deal of time in the novel running away from Inspector Javert, he is a cluster unto himself. He is also closely tied to his adopted daughter, Cosette, and her future husband, Marius.\n",
    "#### If one were interested in influencing Jean Valjean, once could target Cosette or Marius if Valjean cannot be directly targeted.\n",
    "\n",
    "Here is the link to the video: https://youtu.be/qKpMFhubQ5g"
   ]
  }
 ],
 "metadata": {
  "kernelspec": {
   "display_name": "Python 3",
   "language": "python",
   "name": "python3"
  },
  "language_info": {
   "codemirror_mode": {
    "name": "ipython",
    "version": 3
   },
   "file_extension": ".py",
   "mimetype": "text/x-python",
   "name": "python",
   "nbconvert_exporter": "python",
   "pygments_lexer": "ipython3",
   "version": "3.7.0"
  }
 },
 "nbformat": 4,
 "nbformat_minor": 2
}
