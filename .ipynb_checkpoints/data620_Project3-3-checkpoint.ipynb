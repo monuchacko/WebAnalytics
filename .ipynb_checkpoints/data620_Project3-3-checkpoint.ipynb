{
 "cells": [
  {
   "cell_type": "markdown",
   "metadata": {},
   "source": [
    "## Project 3\n",
    "\n",
    "Amanda Arce, Monu Chacko, Abdelmalek Hajjam, Nick Schettini"
   ]
  },
  {
   "cell_type": "markdown",
   "metadata": {},
   "source": [
    "Using any of the three classifiers described in chapter 6 of Natural Language Processing with Python, and any features you can think of, build the best name gender classifier you can.\n",
    "Begin by splitting the Names Corpus into three subsets: 500 words for the test set, 500 words for the dev- test set, and the remaining 6900 words for the training set. Then, starting with the example name gender classifier, make incremental improvements. Use the dev-test set to check your progress. Once you are satisfied with your classifier, check its final performance on the test set."
   ]
  },
  {
   "cell_type": "code",
   "execution_count": 1,
   "metadata": {},
   "outputs": [],
   "source": [
    "import nltk\n",
    "#nltk.download('names')\n",
    "from nltk.corpus import names\n",
    "import random\n",
    "import itertools\n",
    "from itertools import product\n",
    "from string import ascii_lowercase\n",
    "from nltk.classify import apply_features\n",
    "\n",
    "labelednames = ([(name, 'male') for name in names.words('male.txt')] + \n",
    "                [(name, 'female') for name in names.words('female.txt')])"
   ]
  },
  {
   "cell_type": "code",
   "execution_count": 2,
   "metadata": {},
   "outputs": [],
   "source": [
    "def gender_features(name):\n",
    "    \n",
    "    features = {}\n",
    "    keywords = [''.join(i) for i in itertools.product(ascii_lowercase, repeat = 2)]\n",
    "    \n",
    "    #look at first, first2, last, last2 letters of name\n",
    "    #apply .lower() method to convert all text to lowercase\n",
    "    features[\"first_letter\"] = name[0].lower()\n",
    "    features[\"first_2letter\"] = name[0:1].lower()\n",
    "    features[\"last_letter\"] = name[-1].lower()\n",
    "    features[\"last_2letter\"] = name[-2:-1].lower()\n",
    "    \n",
    "    for letter in ascii_lowercase:\n",
    "        features[\"has({})\".format(letter)] = (letter in name.lower())\n",
    "\n",
    "        for keyword in keywords:\n",
    "            features[\"combo2({})\".format(keyword)] = (keyword in name.lower())\n",
    "            \n",
    "        return features"
   ]
  },
  {
   "cell_type": "code",
   "execution_count": null,
   "metadata": {},
   "outputs": [],
   "source": []
  },
  {
   "cell_type": "code",
   "execution_count": 3,
   "metadata": {},
   "outputs": [],
   "source": [
    "#random shuffle on labelednames variable\n",
    "random.shuffle(labelednames)\n",
    "#assign gender features\n",
    "modelfeatures = [(gender_features(n), gender) for (n, gender) in labelednames]"
   ]
  },
  {
   "cell_type": "code",
   "execution_count": 4,
   "metadata": {},
   "outputs": [],
   "source": [
    "#s plitting the Names Corpus into three subsets: \n",
    "# 500 words for the test set, \n",
    "# 500 words for the dev- test set, \n",
    "# and the remaining 6900 words for the training set\n",
    "test_set, devtest_set, train_set = modelfeatures[:500], modelfeatures[501:1000],modelfeatures[1000:]\n",
    "classifier = nltk.NaiveBayesClassifier.train(train_set)"
   ]
  },
  {
   "cell_type": "code",
   "execution_count": 5,
   "metadata": {},
   "outputs": [
    {
     "name": "stdout",
     "output_type": "stream",
     "text": [
      "0.7735470941883767\n",
      "0.81\n",
      "0.8140841013824884\n"
     ]
    }
   ],
   "source": [
    "#dev set\n",
    "print(nltk.classify.accuracy(classifier, devtest_set))\n",
    "#test set\n",
    "print(nltk.classify.accuracy(classifier, test_set))\n",
    "#train set\n",
    "print(nltk.classify.accuracy(classifier, train_set))"
   ]
  },
  {
   "cell_type": "markdown",
   "metadata": {},
   "source": [
    "ref \n",
    "http://www.nltk.org/howto/corpus.html \n",
    "ch 6 of text book"
   ]
  },
  {
   "cell_type": "code",
   "execution_count": null,
   "metadata": {},
   "outputs": [],
   "source": []
  }
 ],
 "metadata": {
  "kernelspec": {
   "display_name": "Python 3",
   "language": "python",
   "name": "python3"
  },
  "language_info": {
   "codemirror_mode": {
    "name": "ipython",
    "version": 3
   },
   "file_extension": ".py",
   "mimetype": "text/x-python",
   "name": "python",
   "nbconvert_exporter": "python",
   "pygments_lexer": "ipython3",
   "version": "3.7.0"
  }
 },
 "nbformat": 4,
 "nbformat_minor": 2
}
