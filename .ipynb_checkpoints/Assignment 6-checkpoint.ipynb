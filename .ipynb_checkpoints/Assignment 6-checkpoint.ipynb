{
 "cells": [
  {
   "cell_type": "markdown",
   "metadata": {},
   "source": [
    "## Assignment 6\n",
    "\n",
    "## Abdelmalek Hajjam / Monu Chacko"
   ]
  },
  {
   "cell_type": "markdown",
   "metadata": {},
   "source": [
    "Here is a dataset that shows a simple 2-node network:  the attendance of 18 Southern Women at 14 social events:\n",
    "\n",
    "Brief Description. Small “musty” datasets like that from this 1941 study have proven very valuable in testing and comparing new network algorithms.\n",
    "Dataset.\n",
    "Python code to create dataset: https://networkx.github.io/documentation/stable/auto_examples/algorithms/plot_davis_club.html\n",
    "What can you infer about the relationships between (1) the women, and (2) the social events?  \n",
    "\n",
    "Please provide your code and analysis in an Jupyter notebook stored in your GitHub repository."
   ]
  },
  {
   "cell_type": "markdown",
   "metadata": {},
   "source": [
    "Background && Description: http://vlado.fmf.uni-lj.si/pub/networks/data/ucinet/ucidata.htm#davis\n",
    "and also: http://rpackages.ianhowson.com/cran/latentnet/man/davis.html\n",
    "\n",
    "Dataset: http://vlado.fmf.uni-lj.si/pub/networks/data/Ucinet/davis.dat\n",
    "        \n",
    "Networkx has this dataset builtin already. It comes with it. We just need to load it (call it through networkx API).\n",
    "        "
   ]
  },
  {
   "cell_type": "code",
   "execution_count": 1,
   "metadata": {},
   "outputs": [],
   "source": [
    "import pandas as pd\n",
    "import numpy as np\n",
    "import networkx as nx\n",
    "import networkx.algorithms.bipartite as bipartite\n",
    "import matplotlib.pyplot as plt\n",
    "%matplotlib inline"
   ]
  },
  {
   "cell_type": "code",
   "execution_count": 2,
   "metadata": {},
   "outputs": [],
   "source": [
    "G = nx.davis_southern_women_graph()\n",
    "Women = G.graph['top']\n",
    "Events = G.graph['bottom']"
   ]
  },
  {
   "cell_type": "code",
   "execution_count": 3,
   "metadata": {},
   "outputs": [
    {
     "name": "stdout",
     "output_type": "stream",
     "text": [
      "['Evelyn Jefferson', 'Laura Mandeville', 'Theresa Anderson', 'Brenda Rogers', 'Charlotte McDowd', 'Frances Anderson', 'Eleanor Nye', 'Pearl Oglethorpe', 'Ruth DeSand', 'Verne Sanderson', 'Myra Liddel', 'Katherina Rogers', 'Sylvia Avondale', 'Nora Fayette', 'Helen Lloyd', 'Dorothy Murchison', 'Olivia Carleton', 'Flora Price']\n",
      "['E1', 'E2', 'E3', 'E4', 'E5', 'E6', 'E7', 'E8', 'E9', 'E10', 'E11', 'E12', 'E13', 'E14']\n",
      "There were 18 women in total.\n"
     ]
    },
    {
     "ename": "NameError",
     "evalue": "name 'events' is not defined",
     "output_type": "error",
     "traceback": [
      "\u001b[1;31m---------------------------------------------------------------------------\u001b[0m",
      "\u001b[1;31mNameError\u001b[0m                                 Traceback (most recent call last)",
      "\u001b[1;32m<ipython-input-3-6ca3bc126448>\u001b[0m in \u001b[0;36m<module>\u001b[1;34m()\u001b[0m\n\u001b[0;32m      4\u001b[0m \u001b[0mprint\u001b[0m\u001b[1;33m(\u001b[0m\u001b[0mEvents\u001b[0m\u001b[1;33m)\u001b[0m\u001b[1;33m\u001b[0m\u001b[0m\n\u001b[0;32m      5\u001b[0m \u001b[0mprint\u001b[0m\u001b[1;33m(\u001b[0m\u001b[1;34m\"There were \"\u001b[0m \u001b[1;33m+\u001b[0m \u001b[0mstr\u001b[0m\u001b[1;33m(\u001b[0m\u001b[0mlen\u001b[0m\u001b[1;33m(\u001b[0m\u001b[0mWomen\u001b[0m\u001b[1;33m)\u001b[0m\u001b[1;33m)\u001b[0m \u001b[1;33m+\u001b[0m \u001b[1;34m\" women in total.\"\u001b[0m\u001b[1;33m)\u001b[0m\u001b[1;33m\u001b[0m\u001b[0m\n\u001b[1;32m----> 6\u001b[1;33m \u001b[0mprint\u001b[0m\u001b[1;33m(\u001b[0m\u001b[1;34m\"There were \"\u001b[0m \u001b[1;33m+\u001b[0m \u001b[0mstr\u001b[0m\u001b[1;33m(\u001b[0m\u001b[0mlen\u001b[0m\u001b[1;33m(\u001b[0m\u001b[0mevents\u001b[0m\u001b[1;33m)\u001b[0m\u001b[1;33m)\u001b[0m \u001b[1;33m+\u001b[0m \u001b[1;34m\" events in total.\"\u001b[0m\u001b[1;33m)\u001b[0m\u001b[1;33m\u001b[0m\u001b[0m\n\u001b[0m",
      "\u001b[1;31mNameError\u001b[0m: name 'events' is not defined"
     ]
    }
   ],
   "source": [
    "#show women\n",
    "print(Women)\n",
    "#show events\n",
    "print(Events)\n",
    "print(\"There were \" + str(len(Women)) + \" women in total.\")\n",
    "print(\"There were \" + str(len(Events)) + \" events in total.\")"
   ]
  },
  {
   "cell_type": "code",
   "execution_count": null,
   "metadata": {},
   "outputs": [],
   "source": [
    "#show the adjacency matrix\n",
    "print(\"Biadjacency matrix\")\n",
    "print(bipartite.biadjacency_matrix(G, Women, Events))\n"
   ]
  },
  {
   "cell_type": "code",
   "execution_count": null,
   "metadata": {},
   "outputs": [],
   "source": [
    "#adding color attribute to the nodes\n",
    "for node in Women:\n",
    "    G.node[node][\"class\"] = \"woman\"\n",
    "for node in Events:\n",
    "    G.node[node][\"class\"] = \"event\"\n",
    "    \n",
    "color_map = {\n",
    "    \"event\": \"#4db6ac\",\n",
    "    \"woman\": \"#ff80ab\"\n",
    "}"
   ]
  },
  {
   "cell_type": "code",
   "execution_count": null,
   "metadata": {},
   "outputs": [],
   "source": [
    "#adding labels\n",
    "label_map = {}\n",
    "for event in Events:\n",
    "    label_map[event] = event\n",
    "for woman in Women:\n",
    "    Women[Women.index(woman)] = woman.replace(\" \", \"\\n\")\n",
    "    label_map[woman] = woman.replace(\" \", \"\\n\")\n",
    "G = nx.relabel_nodes(G, label_map)"
   ]
  },
  {
   "cell_type": "code",
   "execution_count": null,
   "metadata": {},
   "outputs": [],
   "source": [
    "plt.figure(figsize=(14,14))\n",
    "positions = nx.spring_layout(G,k=0.55,iterations=60)\n",
    "position_labels = {}\n",
    "keys = positions.keys()\n",
    "for key in keys:\n",
    "    px,py = positions[key]\n",
    "    position_labels[key] = (px, py)\n",
    "nx.draw_networkx_labels(G, position_labels, font_color='#01579b', font_size=12)\n",
    "nx.draw_networkx_edges(G, positions, edge_color=\"#90a4ae\", alpha=0.2)\n",
    "nx.draw_networkx_nodes(G, positions, node_color=[color_map[G.node[node]['class']] for node in G], node_size=500)\n",
    "plt.axis(\"off\")\n",
    "plt.show()"
   ]
  },
  {
   "cell_type": "markdown",
   "metadata": {},
   "source": [
    "Eyeballing the graph, looks like E8 and E9 are the most events bringing women together, i.e. lot of women attended event8 and event9. Also it lloks like Theresa, Evelyn and Nora Fayette attended most events."
   ]
  },
  {
   "cell_type": "markdown",
   "metadata": {},
   "source": [
    "## Women Studies"
   ]
  },
  {
   "cell_type": "code",
   "execution_count": null,
   "metadata": {},
   "outputs": [],
   "source": [
    "#graph number of events attended by every women\n",
    "women_colors = {}\n",
    "for woman in Women:\n",
    "    women_colors[woman] = [\"gold\", \"lime\", \"violet\", \"orange\", \"navy\", \"purple\",\n",
    "                          \"darkslategrey\", \"chocolate\", \"firebrick\", \"darkcyan\", \"cyan\", \"yellow\",\n",
    "                          \"saddlebrown\", \"peachpuff\", \"deeppink\", \"crimson\", \"forestgreen\", \"powderblue\"][Women.index(woman)]\n",
    "women_events = {}\n",
    "for woman in Women:\n",
    "    women_events[woman] = len(list(nx.all_neighbors(G, woman)))\n",
    "plt.figure(figsize=(15,5))\n",
    "plt.bar(women_events.keys(), women_events.values(), width=0.9, align=\"center\", color=[women_colors[woman] for woman in Women])\n",
    "plt.xticks(rotation=90)\n",
    "plt.yticks(list(range(0,10)))\n",
    "plt.tick_params(labelright=True, right=True)\n",
    "plt.title(\"Number of Events Attended by Each Woman\")\n",
    "plt.show()"
   ]
  },
  {
   "cell_type": "markdown",
   "metadata": {},
   "source": [
    "There are lot of variations in the number of events attended by every women.Some attended more events and some attended less events.\n",
    "We can conclude that those 3 women Evelyn, Nora Fayette and Theresa have lot of frienships (more friends), since they attended most of the events.\n",
    "While Dorothy, Olivia and Flora have few friends since they attended fewer events."
   ]
  },
  {
   "cell_type": "code",
   "execution_count": null,
   "metadata": {},
   "outputs": [],
   "source": []
  },
  {
   "cell_type": "code",
   "execution_count": null,
   "metadata": {},
   "outputs": [],
   "source": [
    "#the colored graph\n",
    "W = bipartite.projected_graph(G, Women)\n",
    "plt.figure(figsize=(16,16))\n",
    "positions = nx.spring_layout(W,k=0.55,iterations=60)\n",
    "position_labels = {}\n",
    "keys = positions.keys()\n",
    "for key in keys:\n",
    "    px, py = positions[key]\n",
    "    position_labels[key] = (px, py + 0.065)\n",
    "nx.draw_networkx_labels(W, position_labels, font_color='#01579b', font_size=12)\n",
    "nx.draw_networkx_edges(W, positions, edge_color=[women_colors[edge[0]] for edge in list(W.edges())], alpha=0.3)\n",
    "nx.draw_networkx_nodes(W, positions, node_color=[women_colors[node] for node in W], node_size=300)\n",
    "plt.axis(\"off\")\n",
    "plt.title(\"Women Friendships\")\n",
    "plt.show()"
   ]
  },
  {
   "cell_type": "markdown",
   "metadata": {},
   "source": [
    "\n",
    "I tweaked the graph to make it very clear for frienships. Looking at the bipartite graph, these are women who attended events together. we can clearly see that Evelyn, Theresa and Nora Fayette, made friends with most of other women."
   ]
  },
  {
   "cell_type": "code",
   "execution_count": null,
   "metadata": {},
   "outputs": [],
   "source": [
    "Let compare Evelyn Jefferson and Olivia\\nCarleton"
   ]
  },
  {
   "cell_type": "code",
   "execution_count": null,
   "metadata": {},
   "outputs": [],
   "source": [
    "plt.figure(figsize=(10,10))\n",
    "nx.draw_networkx_labels(W, position_labels, font_color='#01579b', font_size=10)\n",
    "nx.draw_networkx_edges(W, positions, edgelist=[edge if \"Evelyn\\nJefferson\" in edge else (\"Evelyn\\nJefferson\", \"Evelyn\\nJefferson\") for edge in list(W.edges())], edge_color=women_colors[\"Evelyn\\nJefferson\"], alpha=0.3, width=2)\n",
    "nx.draw_networkx_nodes(W, positions, node_color=[women_colors[node] for node in W], node_size=300)\n",
    "plt.axis(\"off\")\n",
    "plt.title(\"Evelyn Jefferson Friendships\")\n",
    "plt.show()"
   ]
  },
  {
   "cell_type": "code",
   "execution_count": null,
   "metadata": {},
   "outputs": [],
   "source": [
    "plt.figure(figsize=(10,10))\n",
    "nx.draw_networkx_labels(W, position_labels, font_color='forestgreen', font_size=10)\n",
    "nx.draw_networkx_edges(W, positions, edgelist=[edge if \"Olivia\\nCarleton\" in edge else (\"Olivia\\nCarleton\", \"Olivia\\nCarleton\") for edge in list(W.edges())], edge_color=women_colors[\"Olivia\\nCarleton\"], alpha=0.3, width=2)\n",
    "nx.draw_networkx_nodes(W, positions, node_color=[women_colors[node] for node in W], node_size=300)\n",
    "plt.axis(\"off\")\n",
    "plt.title(\"Olivia Carleton Friendships\")\n",
    "plt.show()"
   ]
  },
  {
   "cell_type": "markdown",
   "metadata": {},
   "source": [
    "## Events Studies"
   ]
  },
  {
   "cell_type": "code",
   "execution_count": null,
   "metadata": {},
   "outputs": [],
   "source": [
    "event_colors = {}\n",
    "for event in Events:\n",
    "    event_colors[event] = [\"gold\", \"lime\", \"violet\", \"orange\", \"navy\", \"purple\",\n",
    "                          \"darkslategrey\", \"chocolate\", \"firebrick\", \"darkcyan\", \"cyan\", \"yellow\",\n",
    "                          \"saddlebrown\", \"peachpuff\", \"deeppink\", \"crimson\", \"forestgreen\", \"powderblue\"][events.index(event)]\n",
    "event_attendees = {}\n",
    "for event in Events:\n",
    "    event_attendees[event] = len(list(nx.all_neighbors(G, event)))\n",
    "plt.figure(figsize=(15,5))\n",
    "plt.bar(event_attendees.keys(), event_attendees.values(), width=0.9, align=\"center\", color=[event_colors[event] for event in Events])\n",
    "plt.yticks(list(range(0,19)))\n",
    "plt.tick_params(labelright=True, right=True)\n",
    "plt.title(\"Number of Women at Each Event\")\n",
    "plt.show()"
   ]
  },
  {
   "cell_type": "markdown",
   "metadata": {},
   "source": [
    "It looks like a normal distribution if we look at the number of women who attended each event. \n",
    "It also look like the average number of women attending an event is about 6 women in average.\n",
    "Also it look slike Event8 is the most event that lot of women have attended.\n",
    "In oter word if you want an information to be advertised to women, you need advertise it in event8 (E8).\n"
   ]
  },
  {
   "cell_type": "code",
   "execution_count": null,
   "metadata": {},
   "outputs": [],
   "source": [
    "Ev = bipartite.projected_graph(G, Events)\n",
    "plt.figure(figsize=(14,14))\n",
    "positions = nx.spring_layout(Ev,k=0.55,iterations=60)\n",
    "position_labels = {}\n",
    "keys = positions.keys()\n",
    "for key in keys:\n",
    "    px, py = positions[key]\n",
    "    position_labels[key] = (px, py + 0.065)\n",
    "nx.draw_networkx_labels(Ev, position_labels, font_color='#01579b', font_size=12)\n",
    "nx.draw_networkx_edges(Ev, positions, edge_color=[event_colors[edge[0]] for edge in list(Ev.edges())], alpha=0.3)\n",
    "nx.draw_networkx_nodes(Ev, positions, node_color=[event_colors[node] for node in Ev], node_size=300)\n",
    "plt.axis(\"off\")\n",
    "plt.title(\"Events interacting between themselves\")\n",
    "plt.show()"
   ]
  },
  {
   "cell_type": "code",
   "execution_count": null,
   "metadata": {},
   "outputs": [],
   "source": [
    "plt.figure(figsize=(14,14))\n",
    "nx.draw_networkx_labels(Ev, position_labels, font_color='#01579b', font_size=12)\n",
    "nx.draw_networkx_edges(Ev, positions, edgelist=[edge if \"E6\" in edge else (\"E6\", \"E6\") for edge in list(Ev.edges())], edge_color=event_colors[\"E6\"], alpha=0.3, width=3)\n",
    "nx.draw_networkx_nodes(Ev, positions, node_color=[event_colors[node] for node in Ev], node_size=300)\n",
    "plt.axis(\"off\")\n",
    "plt.title(\"Women who attended E6 and other events\")\n",
    "plt.show()"
   ]
  },
  {
   "cell_type": "code",
   "execution_count": null,
   "metadata": {},
   "outputs": [],
   "source": [
    "plt.figure(figsize=(14,14))\n",
    "nx.draw_networkx_labels(Ev, position_labels, font_color='#01579b', font_size=12)\n",
    "nx.draw_networkx_edges(Ev, positions, edgelist=[edge if \"E3\" in edge else (\"E3\", \"E3\") for edge in list(Ev.edges())], edge_color=event_colors[\"E3\"], alpha=0.3, width=3)\n",
    "nx.draw_networkx_nodes(Ev, positions, node_color=[event_colors[node] for node in Ev], node_size=300)\n",
    "plt.axis(\"off\")\n",
    "plt.title(\"Women who attended E3 and Other events\")\n",
    "plt.show()"
   ]
  },
  {
   "cell_type": "markdown",
   "metadata": {},
   "source": [
    "These 2 graphs above show how women who attended E6 and attended other events as well. Same for E3.\n",
    "It looks like women who attended E6 also attended some other events. While there are lot of women who attended other events, but not E3. It looks like after E9, no women attend E3. Very strange. By graphing for each event, we can have a clear understanding of events interactions. \n"
   ]
  },
  {
   "cell_type": "markdown",
   "metadata": {},
   "source": [
    "## Conclusion:\n",
    "## We can see that when we study women by themselves, and events by themselves, we get a good picture of the network and its analysis. However when we do 2-mode networks, it becomes difficult to do any analysis or reveal any hidden information. This is the purpose of 1-mode networks analysis. Lot of information can be revealed when we convert a network from 2-mode to 1-mode."
   ]
  },
  {
   "cell_type": "code",
   "execution_count": null,
   "metadata": {},
   "outputs": [],
   "source": []
  }
 ],
 "metadata": {
  "kernelspec": {
   "display_name": "Python 3",
   "language": "python",
   "name": "python3"
  },
  "language_info": {
   "codemirror_mode": {
    "name": "ipython",
    "version": 3
   },
   "file_extension": ".py",
   "mimetype": "text/x-python",
   "name": "python",
   "nbconvert_exporter": "python",
   "pygments_lexer": "ipython3",
   "version": "3.7.0"
  }
 },
 "nbformat": 4,
 "nbformat_minor": 2
}
