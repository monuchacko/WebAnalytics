{
 "cells": [
  {
   "cell_type": "code",
   "execution_count": 1,
   "metadata": {},
   "outputs": [],
   "source": [
    "import numpy as np\n",
    "import pandas as pd\n",
    "import matplotlib.pyplot as plt\n",
    "import networkx as nx\n",
    "from collections import Counter # counting groups in the islands\n",
    "import csv"
   ]
  },
  {
   "cell_type": "code",
   "execution_count": 2,
   "metadata": {},
   "outputs": [],
   "source": [
    "#world_cities_global_firms = pd.read_csv(\"https://raw.githubusercontent.com/jonathan1987/DATA620/master/Project2/cities/da6.csv\", header=0, skiprows=1, index_col = 0)"
   ]
  },
  {
   "cell_type": "code",
   "execution_count": 3,
   "metadata": {},
   "outputs": [],
   "source": [
    "world_cities_global_firms = pd.read_csv(\"da6.csv\", header=0, skiprows=1, index_col = 0)"
   ]
  },
  {
   "cell_type": "code",
   "execution_count": 4,
   "metadata": {},
   "outputs": [
    {
     "name": "stdout",
     "output_type": "stream",
     "text": [
      "(55, 47)\n"
     ]
    }
   ],
   "source": [
    "world_cities_global_firms = world_cities_global_firms.drop('Unnamed: 47',1)\n",
    "#world_cities_global_firms = world_cities_global_firms.drop_duplicates(inplace=True)\n",
    "#world_cities_global_firms.drop_duplicates(inplace=True)\n",
    "print(world_cities_global_firms.shape)\n",
    "firms = list(world_cities_global_firms.columns)"
   ]
  },
  {
   "cell_type": "code",
   "execution_count": 5,
   "metadata": {},
   "outputs": [
    {
     "name": "stdout",
     "output_type": "stream",
     "text": [
      "                KP  CL  EY  AA  PW  GR  DM  LH  SS  TH  ...  GJ  HH  JD  MC  \\\n",
      "CITIES                                                  ...                   \n",
      "Amsterdam        3   3   1   1   3   1   1   1   1   1  ...   0   0   0   0   \n",
      "Atlanta          3   3   2   2   2   0   0   0   0   1  ...   0   0   3   0   \n",
      "Bangkok          1   1   1   2   2   1   1   0   1   1  ...   1   0   0   0   \n",
      "Barcelona        1   1   1   1   2   1   1   1   1   1  ...   0   0   0   0   \n",
      "Beijing          1   1   1   1   2   0   1   0   1   1  ...   1   0   0   0   \n",
      "Berlin           2   3   2   2   1   0   0   0   0   0  ...   0   0   0   0   \n",
      "Boston           3   3   2   1   1   0   0   0   0   0  ...   0   0   0   0   \n",
      "Brussels         2   3   3   1   3   1   1   1   1   1  ...   0   1   2   0   \n",
      "Budapest         1   2   1   1   1   0   1   1   1   1  ...   0   1   0   0   \n",
      "Buenos Aires     2   2   1   1   1   1   1   0   1   1  ...   0   0   0   0   \n",
      "Caracas          2   1   2   1   1   1   1   1   1   1  ...   0   0   0   0   \n",
      "Chicago          3   3   3   2   2   0   0   0   0   1  ...   0   0   3   0   \n",
      "Copenhagen       3   2   2   1   2   1   1   1   1   1  ...   0   0   0   0   \n",
      "Dallas           3   2   3   1   2   0   0   0   0   1  ...   0   0   3   0   \n",
      "Dusseldorf       3   3   3   2   3   1   1   1   0   0  ...   0   0   0   0   \n",
      "Frankfurt        3   3   2   2   2   1   1   1   1   1  ...   0   0   3   0   \n",
      "Geneva           1   2   1   1   2   1   1   0   0   0  ...   0   0   1   0   \n",
      "Hamburg          2   3   3   2   1   1   1   1   0   1  ...   0   0   0   0   \n",
      "Hong Kong        3   3   3   1   1   1   1   1   1   1  ...   1   0   1   0   \n",
      "Houston          2   2   2   1   1   0   0   0   0   1  ...   0   0   0   0   \n",
      "Istanbul         1   1   1   1   1   0   1   1   1   1  ...   0   0   0   0   \n",
      "Jakarta          2   2   2   1   2   0   1   0   1   1  ...   0   0   0   0   \n",
      "Johannesburg     3   3   2   1   2   0   1   0   1   1  ...   0   0   0   0   \n",
      "Kuala Lumpur     2   1   2   2   1   1   1   0   1   1  ...   0   0   0   0   \n",
      "London           3   3   3   3   3   1   1   1   1   1  ...   1   1   2   0   \n",
      "Los Angeles      3   2   2   2   2   1   1   0   1   1  ...   3   1   3   0   \n",
      "Madrid           2   2   2   1   3   1   1   1   1   1  ...   0   0   0   0   \n",
      "Manila           1   1   1   1   2   1   1   0   1   1  ...   0   0   0   0   \n",
      "Melbourne        3   3   1   1   2   1   0   0   1   1  ...   0   0   0   0   \n",
      "Mexico City      2   3   3   1   1   1   1   1   1   1  ...   0   0   0   0   \n",
      "Miami            2   1   2   1   1   0   0   0   1   1  ...   0   0   0   0   \n",
      "Milan            2   3   3   2   3   1   1   1   0   1  ...   3   0   0   0   \n",
      "Minneapolis      2   2   1   1   1   0   0   0   0   1  ...   0   0   0   0   \n",
      "Montreal         3   2   3   2   1   1   1   0   0   1  ...   0   0   0   0   \n",
      "Moscow           2   1   1   2   2   0   1   1   1   1  ...   0   1   0   0   \n",
      "Munich           2   2   3   2   1   0   0   0   0   0  ...   0   0   0   0   \n",
      "New York         3   3   3   2   3   1   1   1   1   1  ...   3   0   3   1   \n",
      "Osaka            1   2   2   3   2   0   0   0   0   0  ...   0   0   0   0   \n",
      "Paris            3   3   3   2   3   1   1   1   1   1  ...   0   2   3   0   \n",
      "Prague           1   1   1   1   1   0   1   1   1   1  ...   0   1   0   0   \n",
      "Rome             1   1   3   2   2   0   1   0   0   1  ...   0   0   0   0   \n",
      "San Francisco    3   3   3   1   2   1   1   0   1   1  ...   3   0   0   0   \n",
      "Sao Paulo        2   2   2   1   2   1   1   1   1   1  ...   0   0   0   0   \n",
      "Santiago         1   2   2   1   3   1   1   0   1   0  ...   0   0   0   0   \n",
      "Seoul            2   2   2   1   3   0   1   0   1   1  ...   0   0   0   0   \n",
      "Shanghai         1   1   1   1   2   0   1   0   1   1  ...   0   0   0   0   \n",
      "Singapore        2   2   1   1   2   1   1   1   1   1  ...   0   0   0   0   \n",
      "Stockholm        3   3   2   1   1   1   1   1   1   1  ...   0   0   0   0   \n",
      "Sydney           3   3   3   2   2   1   1   0   1   1  ...   1   0   0   0   \n",
      "Taipei           2   2   2   1   1   1   1   0   1   1  ...   0   0   2   0   \n",
      "Tokyo            3   3   3   2   3   1   1   0   1   1  ...   1   0   1   0   \n",
      "Toronto          3   3   3   2   3   1   1   1   1   1  ...   0   0   0   0   \n",
      "Warsaw           1   1   2   1   1   0   1   1   0   1  ...   0   2   0   1   \n",
      "Washington, DC   3   3   3   2   2   0   0   0   0   0  ...   2   3   3   1   \n",
      "Zurich           2   2   3   1   2   1   1   1   1   1  ...   0   0   0   0   \n",
      "\n",
      "                SQ  WE  AO  CC  FF  Unnamed: 47  \n",
      "CITIES                                           \n",
      "Amsterdam        0   0   0   1   0           38  \n",
      "Atlanta          0   0   0   0   0           18  \n",
      "Bangkok          0   0   0   1   1           39  \n",
      "Barcelona        0   0   0   1   1           33  \n",
      "Beijing          0   0   1   0   1           32  \n",
      "Berlin           0   0   0   0   0           19  \n",
      "Boston           0   0   0   0   0           26  \n",
      "Brussels         1   0   1   1   1           54  \n",
      "Budapest         1   0   1   1   0           33  \n",
      "Buenos Aires     0   0   0   0   0           34  \n",
      "Caracas          0   0   0   0   0           30  \n",
      "Chicago          0   2   0   0   0           42  \n",
      "Copenhagen       0   0   0   0   0           24  \n",
      "Dallas           0   2   0   0   0           29  \n",
      "Dusseldorf       0   0   0   1   0           33  \n",
      "Frankfurt        0   0   1   1   1           57  \n",
      "Geneva           0   0   0   0   0           27  \n",
      "Hamburg          0   0   0   0   0           24  \n",
      "Hong Kong        0   0   1   1   1           68  \n",
      "Houston          1   1   0   0   0           24  \n",
      "Istanbul         0   0   0   0   0           30  \n",
      "Jakarta          0   0   0   0   0           38  \n",
      "Johannesburg     0   0   0   0   0           32  \n",
      "Kuala Lumpur     0   0   0   0   0           32  \n",
      "London           1   1   1   1   1           97  \n",
      "Los Angeles      0   3   0   0   0           65  \n",
      "Madrid           0   0   1   1   1           52  \n",
      "Manila           0   0   0   0   0           31  \n",
      "Melbourne        0   0   0   0   0           37  \n",
      "Mexico City      0   0   0   0   0           43  \n",
      "Miami            1   2   0   0   0           33  \n",
      "Milan            0   0   1   1   1           56  \n",
      "Minneapolis      0   0   0   0   0           13  \n",
      "Montreal         0   0   0   0   0           29  \n",
      "Moscow           0   0   1   1   1           45  \n",
      "Munich           0   0   0   0   0           22  \n",
      "New York         2   3   1   1   1          105  \n",
      "Osaka            0   0   0   0   0           16  \n",
      "Paris            0   0   1   1   1           71  \n",
      "Prague           2   0   1   1   0           37  \n",
      "Rome             0   0   1   1   1           24  \n",
      "San Francisco    0   3   0   0   0           54  \n",
      "Sao Paulo        0   0   0   0   0           42  \n",
      "Santiago         0   0   0   0   0           33  \n",
      "Seoul            0   0   0   0   0           37  \n",
      "Shanghai         0   0   0   1   0           27  \n",
      "Singapore        0   0   1   1   1           61  \n",
      "Stockholm        0   0   0   0   0           32  \n",
      "Sydney           0   0   0   0   0           56  \n",
      "Taipei           0   0   0   0   0           41  \n",
      "Tokyo            0   1   1   1   1           66  \n",
      "Toronto          0   0   0   0   0           48  \n",
      "Warsaw           0   0   1   1   0           36  \n",
      "Washington, DC   3   2   0   0   0           54  \n",
      "Zurich           0   0   0   0   0           48  \n",
      "\n",
      "[55 rows x 47 columns]\n"
     ]
    }
   ],
   "source": [
    "print(world_cities_global_firms)"
   ]
  },
  {
   "cell_type": "code",
   "execution_count": 6,
   "metadata": {},
   "outputs": [],
   "source": [
    "data = open('da6+.net', 'r')\n",
    "lines = data.readlines()\n",
    "firm_industry = {}\n",
    "\n",
    "for i in lines[59:64]:\n",
    "    firm_industry[i[5:7]] = \"Accountancy\"\n",
    "\n",
    "for i in lines[65:76]:\n",
    "    firm_industry[i[5:7]] = \"Advertising\"\n",
    "    \n",
    "for i in lines[77:91]:\n",
    "    firm_industry[i[5:7]] = \"Banking and Finance\"\n",
    "\n",
    "for i in lines[92:108]:\n",
    "    firm_industry[i[5:7]] = \"Law\""
   ]
  },
  {
   "cell_type": "code",
   "execution_count": 7,
   "metadata": {},
   "outputs": [
    {
     "name": "stdout",
     "output_type": "stream",
     "text": [
      "(47, 55)\n",
      "(55, 47)\n",
      "(55, 55)\n"
     ]
    },
    {
     "data": {
      "text/plain": [
       "array([[1524,  714, 1534, ..., 1414, 2097, 1889],\n",
       "       [ 714,  366,  720, ...,  664, 1014,  890],\n",
       "       [1534,  720, 1586, ..., 1441, 2148, 1922],\n",
       "       ...,\n",
       "       [1414,  664, 1441, ..., 1360, 1989, 1777],\n",
       "       [2097, 1014, 2148, ..., 1989, 3058, 2635],\n",
       "       [1889,  890, 1922, ..., 1777, 2635, 2408]], dtype=int64)"
      ]
     },
     "execution_count": 7,
     "metadata": {},
     "output_type": "execute_result"
    }
   ],
   "source": [
    "world_cities_global_firms_tp = np.transpose(world_cities_global_firms)\n",
    "#world_cities_global_firms_tp.drop_duplicates(inplace=True)\n",
    "\n",
    "# Check the shape of matrix and transpose matrix\n",
    "print(world_cities_global_firms_tp.shape)\n",
    "print(world_cities_global_firms.shape)\n",
    "\n",
    "world_cities_adjmatrix = np.dot(world_cities_global_firms, world_cities_global_firms_tp)\n",
    "print(world_cities_adjmatrix.shape)\n",
    "world_cities_adjmatrix\n",
    "#np.matmul(np.transpose(world_cities_global_firms), world_cities_global_firms)\n",
    "\n",
    "#world_cities_adjmatrix = np.matmul(np.transpose(world_cities_global_firms),world_cities_global_firms)"
   ]
  },
  {
   "cell_type": "code",
   "execution_count": 10,
   "metadata": {},
   "outputs": [
    {
     "data": {
      "text/plain": [
       "['KP',\n",
       " 'CL',\n",
       " 'EY',\n",
       " 'AA',\n",
       " 'PW',\n",
       " 'GR',\n",
       " 'DM',\n",
       " 'LH',\n",
       " 'SS',\n",
       " 'TH',\n",
       " 'OM',\n",
       " 'DE',\n",
       " 'YR',\n",
       " 'TM',\n",
       " 'PU',\n",
       " 'AM',\n",
       " 'HS',\n",
       " 'BA',\n",
       " 'NW',\n",
       " 'ST',\n",
       " 'CR',\n",
       " 'DR',\n",
       " 'MO',\n",
       " 'PA',\n",
       " 'CS',\n",
       " 'BB',\n",
       " 'BT',\n",
       " 'UB',\n",
       " 'AB',\n",
       " 'CB',\n",
       " 'BM',\n",
       " 'WC',\n",
       " 'LL',\n",
       " 'CO',\n",
       " 'SK',\n",
       " 'BC',\n",
       " 'DW',\n",
       " 'GJ',\n",
       " 'HH',\n",
       " 'JD',\n",
       " 'MC',\n",
       " 'SQ',\n",
       " 'WE',\n",
       " 'AO',\n",
       " 'CC',\n",
       " 'FF',\n",
       " 'Unnamed: 47']"
      ]
     },
     "execution_count": 10,
     "metadata": {},
     "output_type": "execute_result"
    }
   ],
   "source": [
    "firms\n",
    "#world_cities = pd.DataFrame(data=world_cities_adjmatrix, index=firms, columns=firms)\n",
    "#G = nx.from_pandas_adjacency(world_cities)\n",
    "#print(nx.info(G))"
   ]
  }
 ],
 "metadata": {
  "kernelspec": {
   "display_name": "Python 3",
   "language": "python",
   "name": "python3"
  },
  "language_info": {
   "codemirror_mode": {
    "name": "ipython",
    "version": 3
   },
   "file_extension": ".py",
   "mimetype": "text/x-python",
   "name": "python",
   "nbconvert_exporter": "python",
   "pygments_lexer": "ipython3",
   "version": "3.7.0"
  }
 },
 "nbformat": 4,
 "nbformat_minor": 2
}
