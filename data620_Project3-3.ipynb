{
 "cells": [
  {
   "cell_type": "markdown",
   "metadata": {},
   "source": [
    "## Project 3\n",
    "\n",
    "Amanda Arce, Monu Chacko, Abdelmalek Hajjam, Nick Schettini"
   ]
  },
  {
   "cell_type": "markdown",
   "metadata": {},
   "source": [
    "Using any of the three classifiers described in chapter 6 of Natural Language Processing with Python, and any features you can think of, build the best name gender classifier you can.\n",
    "Begin by splitting the Names Corpus into three subsets: 500 words for the test set, 500 words for the dev- test set, and the remaining 6900 words for the training set. Then, starting with the example name gender classifier, make incremental improvements. Use the dev-test set to check your progress. Once you are satisfied with your classifier, check its final performance on the test set."
   ]
  },
  {
   "cell_type": "code",
   "execution_count": 1,
   "metadata": {},
   "outputs": [],
   "source": [
    "import nltk\n",
    "#nltk.download('names')\n",
    "from nltk.corpus import names\n",
    "import random\n",
    "import itertools\n",
    "from itertools import product\n",
    "from string import ascii_lowercase\n",
    "from nltk.classify import apply_features\n",
    "import matplotlib.pyplot as plt\n",
    "\n",
    "labelednames = ([(name, 'male') for name in names.words('male.txt')] + \n",
    "                [(name, 'female') for name in names.words('female.txt')])"
   ]
  },
  {
   "cell_type": "code",
   "execution_count": 3,
   "metadata": {},
   "outputs": [],
   "source": [
    "def gender_features(name):\n",
    "    \n",
    "    features = {}\n",
    "    keywords = [''.join(i) for i in itertools.product(ascii_lowercase, repeat = 2)]\n",
    "    \n",
    "    #look at first, first2, last, last2 letters of name\n",
    "    #apply .lower() method to convert all text to lowercase\n",
    "    features[\"first_letter\"] = name[0].lower()\n",
    "    features[\"first_2letter\"] = name[0:1].lower()\n",
    "    features[\"last_letter\"] = name[-1].lower()\n",
    "    features[\"last_2letter\"] = name[-2:-1].lower()\n",
    "    \n",
    "    for letter in ascii_lowercase:\n",
    "        features[\"has({})\".format(letter)] = (letter in name.lower())\n",
    "\n",
    "        for keyword in keywords:\n",
    "            features[\"combo2({})\".format(keyword)] = (keyword in name.lower())\n",
    "            \n",
    "        return features"
   ]
  },
  {
   "cell_type": "code",
   "execution_count": 4,
   "metadata": {},
   "outputs": [],
   "source": [
    "#random shuffle on labelednames variable\n",
    "random.shuffle(labelednames)\n",
    "#assign gender features\n",
    "modelfeatures = [(gender_features(n), gender) for (n, gender) in labelednames]"
   ]
  },
  {
   "cell_type": "code",
   "execution_count": 5,
   "metadata": {},
   "outputs": [],
   "source": [
    "#modelfeatures"
   ]
  },
  {
   "cell_type": "code",
   "execution_count": 6,
   "metadata": {},
   "outputs": [],
   "source": [
    "#s plitting the Names Corpus into three subsets: \n",
    "# 500 words for the test set, \n",
    "# 500 words for the dev- test set, \n",
    "# and the remaining 6900 words for the training set\n",
    "test_set, devtest_set, train_set = modelfeatures[:500], modelfeatures[501:1000],modelfeatures[1000:]\n",
    "classifier = nltk.NaiveBayesClassifier.train(train_set)"
   ]
  },
  {
   "cell_type": "code",
   "execution_count": 7,
   "metadata": {},
   "outputs": [
    {
     "name": "stdout",
     "output_type": "stream",
     "text": [
      "0.7975951903807615\n",
      "0.798\n",
      "0.8130760368663594\n"
     ]
    }
   ],
   "source": [
    "#dev set\n",
    "print(nltk.classify.accuracy(classifier, devtest_set))\n",
    "#test set\n",
    "print(nltk.classify.accuracy(classifier, test_set))\n",
    "#train set\n",
    "print(nltk.classify.accuracy(classifier, train_set))"
   ]
  },
  {
   "cell_type": "markdown",
   "metadata": {},
   "source": [
    "ref \n",
    "http://www.nltk.org/howto/corpus.html \n",
    "ch 6 of text book"
   ]
  },
  {
   "cell_type": "code",
   "execution_count": 8,
   "metadata": {},
   "outputs": [],
   "source": [
    "def plot_correlation(self, dataFrame, figureFileName, size=11):\n",
    "    \"\"\"\n",
    "    Function plots a graphical correlation matrix for each pair of columns in the dataframe.\n",
    "\n",
    "    Input:\n",
    "        dataFrame: pandas DataFrame\n",
    "        size: vertical and horizontal size of the plot\n",
    "\n",
    "    Displays:\n",
    "        matrix of correlation between columns.  Blue-cyan-yellow-red-darkred => less to more correlated\n",
    "                                                0 ------------------>  1\n",
    "                                                Expect a darkred line running from top left to bottom right\n",
    "    \"\"\"\n",
    "\n",
    "    #style.use(\"ggplot\")\n",
    "    #style.use(\"svg\")\n",
    "\n",
    "    corr = dataFrame.corr()    # data frame correlation function\n",
    "    fig, ax = plt.subplots(figsize=(size, size))\n",
    "    #print(corr)\n",
    "    ax.matshow(corr)   # color code the rectangles by correlation value\n",
    "    plt.xticks(range(len(corr.columns)), corr.columns)  # draw x tick marks\n",
    "    plt.yticks(range(len(corr.columns)), corr.columns)  # draw y tick marks\n",
    "\n",
    "    plt.xlabel(\"x\")\n",
    "    plt.ylabel(\"y\")\n",
    "    plt.title(\"Correlation\")\n",
    "\n",
    "    fig.savefig(figureFileName)\n",
    "\n",
    "    return plt\n"
   ]
  },
  {
   "cell_type": "code",
   "execution_count": 19,
   "metadata": {},
   "outputs": [
    {
     "name": "stdout",
     "output_type": "stream",
     "text": [
      "               0       1\n",
      "0          Addie    male\n",
      "1        Katalin  female\n",
      "2           Cloe  female\n",
      "3         Brooke    male\n",
      "4       Kiersten  female\n",
      "5       Leonidas    male\n",
      "6         Nancee  female\n",
      "7         Gunvor  female\n",
      "8         Anurag    male\n",
      "9           Page  female\n",
      "10        Edmond    male\n",
      "11       Loralyn  female\n",
      "12        Ulrike  female\n",
      "13        Aleece  female\n",
      "14         Belva  female\n",
      "15        Philip    male\n",
      "16        Candra  female\n",
      "17         Vilma  female\n",
      "18       Sidonia  female\n",
      "19          Dita  female\n",
      "20        Roanna  female\n",
      "21        Annice  female\n",
      "22    Chanderjit    male\n",
      "23        Wright    male\n",
      "24         Janet  female\n",
      "25        Thaine    male\n",
      "26       Dorelia  female\n",
      "27         Biddy  female\n",
      "28         Chris    male\n",
      "29       Kessiah  female\n",
      "...          ...     ...\n",
      "7914      Tallie    male\n",
      "7915       Joice  female\n",
      "7916      Ardyce  female\n",
      "7917     Emogene  female\n",
      "7918  Bernardina  female\n",
      "7919   Frederico    male\n",
      "7920       Rubia  female\n",
      "7921     Wendall    male\n",
      "7922       Nerta  female\n",
      "7923    Vladamir    male\n",
      "7924       Ralph    male\n",
      "7925      Catlin  female\n",
      "7926       Edsel    male\n",
      "7927      Nelsen    male\n",
      "7928      Carlie  female\n",
      "7929       Goldi  female\n",
      "7930      Mariya  female\n",
      "7931    Ernaline  female\n",
      "7932       Minna  female\n",
      "7933        Ajay  female\n",
      "7934    Gilberta  female\n",
      "7935       Jemie  female\n",
      "7936        Sean  female\n",
      "7937       Rusty    male\n",
      "7938       Cayla  female\n",
      "7939       Tammi  female\n",
      "7940       Judye  female\n",
      "7941     Barnaby    male\n",
      "7942       Clare  female\n",
      "7943       Pavia  female\n",
      "\n",
      "[7944 rows x 2 columns]\n"
     ]
    }
   ],
   "source": [
    "import os\n",
    "import pandas as pd\n",
    "import numpy as np\n",
    "\n",
    "file_path = os.getcwd()\n",
    "dflabelednames = pd.DataFrame(labelednames)\n",
    "dflabelednames.columns\n",
    "#dflabelednames.columns\n",
    "print(dflabelednames)\n",
    "#plot_correlation(dflabelednames, file_path, labelednames, modelfeatures).gcf()"
   ]
  },
  {
   "cell_type": "code",
   "execution_count": null,
   "metadata": {},
   "outputs": [],
   "source": []
  }
 ],
 "metadata": {
  "kernelspec": {
   "display_name": "Python 3",
   "language": "python",
   "name": "python3"
  },
  "language_info": {
   "codemirror_mode": {
    "name": "ipython",
    "version": 3
   },
   "file_extension": ".py",
   "mimetype": "text/x-python",
   "name": "python",
   "nbconvert_exporter": "python",
   "pygments_lexer": "ipython3",
   "version": "3.7.0"
  }
 },
 "nbformat": 4,
 "nbformat_minor": 2
}
